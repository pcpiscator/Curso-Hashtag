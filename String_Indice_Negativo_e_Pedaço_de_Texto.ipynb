{
  "cells": [
    {
      "cell_type": "markdown",
      "metadata": {
        "id": "view-in-github",
        "colab_type": "text"
      },
      "source": [
        "<a href=\"https://colab.research.google.com/github/pcpiscator/Curso-Hashtag/blob/main/String_Indice_Negativo_e_Peda%C3%A7o_de_Texto.ipynb\" target=\"_parent\"><img src=\"https://colab.research.google.com/assets/colab-badge.svg\" alt=\"Open In Colab\"/></a>"
      ]
    },
    {
      "cell_type": "markdown",
      "source": [
        "Texto: lira@gmail.com\n",
        "\n",
        "-14 -13 -12 -11 -10 -9 -8 -7 -6 -5 -4 -3 -2 -1 l i r a @ g m a i l . c o m 0 1 2 3 4 5 6 7 8 9 10 11 12 13\n",
        "\n",
        "Para pegar um texto de trás para frente: texto[índice] -> onde índice é negativo Para pegar o pedaço de um texto use : (dois pontos). texto[:indice] ou texto[indice:] ou ainda texto[indice:indice]"
      ],
      "metadata": {
        "id": "sO2dj89gtoCy"
      }
    },
    {
      "cell_type": "code",
      "execution_count": 2,
      "metadata": {
        "id": "bz6m-tywtRE1"
      },
      "outputs": [],
      "source": [
        "email = 'lira@gmail.com'\n",
        "nome = 'João Paulo Lira'"
      ]
    },
    {
      "cell_type": "markdown",
      "metadata": {
        "id": "w-KCiMCZtRE3"
      },
      "source": [
        "Exercícios para Fixação:\n",
        "Basta completar os prints de forma correta"
      ]
    },
    {
      "cell_type": "code",
      "execution_count": 3,
      "metadata": {
        "colab": {
          "base_uri": "https://localhost:8080/"
        },
        "id": "XCdBB5zMtRE4",
        "outputId": "53d5f0af-8812-44d0-8a78-f17b9909e700"
      },
      "outputs": [
        {
          "output_type": "stream",
          "name": "stdout",
          "text": [
            "Tamanho do email 14 caracteres\n",
            "Primeiro Caractere ?\n",
            "Último Caractere ?\n",
            "Servidor do email ?\n"
          ]
        }
      ],
      "source": [
        "print('Tamanho do email ' + str(len(email)) + ' caracteres')\n",
        "print('Primeiro Caractere ' + '?')\n",
        "print('Último Caractere ' + '?')\n",
        "print('Servidor do email ' + '?')"
      ]
    },
    {
      "cell_type": "code",
      "source": [
        "print('Tamanho do email ' + str(len(email)) + ' caracteres')\n",
        "print('Primeiro Caractere ' + email[0])\n",
        "print('Último Caractere ' + email[13])\n",
        "print('Servidor do email ' + '?')"
      ],
      "metadata": {
        "id": "rcYjw9i5wpcJ",
        "outputId": "942fe99b-d87f-4f89-8ca8-723edf200cc5",
        "colab": {
          "base_uri": "https://localhost:8080/"
        }
      },
      "execution_count": 4,
      "outputs": [
        {
          "output_type": "stream",
          "name": "stdout",
          "text": [
            "Tamanho do email 14 caracteres\n",
            "Primeiro Caractere l\n",
            "Último Caractere m\n",
            "Servidor do email ?\n"
          ]
        }
      ]
    },
    {
      "cell_type": "code",
      "source": [
        "print('Tamanho do email: ' + str(len(email)) + ' caracteres')\n",
        "print('Primeiro Caractere: ' + email[0])\n",
        "print('Último Caractere: ' + email[13])\n",
        "print('Servidor do email: ' + email[5:])"
      ],
      "metadata": {
        "id": "z5QHQXc4UkKf",
        "outputId": "41ea1799-dd71-4b14-ee7c-9e8f8784c71e",
        "colab": {
          "base_uri": "https://localhost:8080/"
        }
      },
      "execution_count": 7,
      "outputs": [
        {
          "output_type": "stream",
          "name": "stdout",
          "text": [
            "Tamanho do email: 14 caracteres\n",
            "Primeiro Caractere: l\n",
            "Último Caractere: m\n",
            "Servidor do email: gmail.com\n"
          ]
        }
      ]
    },
    {
      "cell_type": "code",
      "source": [
        "print('Tamanho do email ' + str(len(email)) + ' caracteres')\n",
        "print('Primeiro Caractere ' + email[0])\n",
        "print('Último Caractere ' + email[13])\n",
        "print('Servidor do email ' + '?')"
      ],
      "metadata": {
        "id": "eb38zFm5Uoal"
      },
      "execution_count": null,
      "outputs": []
    }
  ],
  "metadata": {
    "kernelspec": {
      "display_name": "Python 3",
      "language": "python",
      "name": "python3"
    },
    "language_info": {
      "codemirror_mode": {
        "name": "ipython",
        "version": 3
      },
      "file_extension": ".py",
      "mimetype": "text/x-python",
      "name": "python",
      "nbconvert_exporter": "python",
      "pygments_lexer": "ipython3",
      "version": "3.8.3"
    },
    "colab": {
      "name": "String Indice Negativo e Pedaço de Texto.ipynb",
      "provenance": [],
      "include_colab_link": true
    }
  },
  "nbformat": 4,
  "nbformat_minor": 0
}