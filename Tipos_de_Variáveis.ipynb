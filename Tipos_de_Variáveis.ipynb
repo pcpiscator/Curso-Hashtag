{
  "cells": [
    {
      "cell_type": "markdown",
      "metadata": {
        "id": "view-in-github",
        "colab_type": "text"
      },
      "source": [
        "<a href=\"https://colab.research.google.com/github/pcpiscator/Diversos22/blob/main/Tipos_de_Vari%C3%A1veis.ipynb\" target=\"_parent\"><img src=\"https://colab.research.google.com/assets/colab-badge.svg\" alt=\"Open In Colab\"/></a>"
      ]
    },
    {
      "cell_type": "markdown",
      "metadata": {
        "id": "z5XBRJHqaaDU"
      },
      "source": [
        "# Tipos de Variáveis em Python"
      ]
    },
    {
      "cell_type": "markdown",
      "metadata": {
        "id": "zwk-pp57aaDZ"
      },
      "source": [
        "Uma variável é um objeto, afinal tudo é um objeto em Python\n",
        "\n",
        "int -> inteiro<br>\n",
        "string -> texto<br>\n",
        "float -> números com casas decimais (ponto flutuante)<br>\n",
        "bool ou boolean -> True ou False<br>\n",
        "\n",
        "Obs: Variáveis em Python não são declaradas explicitamente, mas isso não significa que você deve ficar mudando o tempo todo\n",
        "\n",
        "Obs2: Cuidado com os nomes restritos (arquivo para Download)"
      ]
    },
    {
      "cell_type": "code",
      "execution_count": null,
      "metadata": {
        "id": "Ipyd_gB-aaDa",
        "outputId": "d40f5367-a987-4537-cfe7-eca27f2bbac1"
      },
      "outputs": [
        {
          "data": {
            "text/plain": [
              "int"
            ]
          },
          "execution_count": 1,
          "metadata": {},
          "output_type": "execute_result"
        }
      ],
      "source": [
        "faturamento = 1000\n",
        "type(faturamento)"
      ]
    },
    {
      "cell_type": "code",
      "execution_count": null,
      "metadata": {
        "id": "KSfvZ0WCaaDc",
        "outputId": "3a59fd0d-187a-4dce-f224-cd666daa38dc"
      },
      "outputs": [
        {
          "data": {
            "text/plain": [
              "float"
            ]
          },
          "execution_count": 2,
          "metadata": {},
          "output_type": "execute_result"
        }
      ],
      "source": [
        "faturamento = 1000.00\n",
        "type(faturamento)"
      ]
    },
    {
      "cell_type": "code",
      "execution_count": null,
      "metadata": {
        "id": "syyNBgSvaaDc",
        "outputId": "c07f71cb-5100-4226-f99c-a51c0fcdfe22"
      },
      "outputs": [
        {
          "data": {
            "text/plain": [
              "str"
            ]
          },
          "execution_count": 3,
          "metadata": {},
          "output_type": "execute_result"
        }
      ],
      "source": [
        "faturamento = '1.000'\n",
        "type(faturamento)"
      ]
    },
    {
      "cell_type": "code",
      "execution_count": null,
      "metadata": {
        "id": "VkK4okoxaaDd",
        "outputId": "c9c5e339-fd40-4e88-c96c-c64c4eb23c2c"
      },
      "outputs": [
        {
          "data": {
            "text/plain": [
              "bool"
            ]
          },
          "execution_count": 4,
          "metadata": {},
          "output_type": "execute_result"
        }
      ],
      "source": [
        "ganha_bonus = True\n",
        "type(ganha_bonus)"
      ]
    },
    {
      "cell_type": "code",
      "execution_count": null,
      "metadata": {
        "id": "yS2MIBf6aaDe"
      },
      "outputs": [],
      "source": [
        ""
      ]
    }
  ],
  "metadata": {
    "kernelspec": {
      "display_name": "Python 3",
      "language": "python",
      "name": "python3"
    },
    "language_info": {
      "codemirror_mode": {
        "name": "ipython",
        "version": 3
      },
      "file_extension": ".py",
      "mimetype": "text/x-python",
      "name": "python",
      "nbconvert_exporter": "python",
      "pygments_lexer": "ipython3",
      "version": "3.8.3"
    },
    "colab": {
      "name": "Tipos de Variáveis.ipynb",
      "provenance": [],
      "include_colab_link": true
    }
  },
  "nbformat": 4,
  "nbformat_minor": 0
}