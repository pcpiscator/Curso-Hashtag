{
  "cells": [
    {
      "cell_type": "markdown",
      "metadata": {
        "id": "view-in-github",
        "colab_type": "text"
      },
      "source": [
        "<a href=\"https://colab.research.google.com/github/pcpiscator/Curso-Hashtag/blob/main/M%C3%B3dulo_if_Aula_02.ipynb\" target=\"_parent\"><img src=\"https://colab.research.google.com/assets/colab-badge.svg\" alt=\"Open In Colab\"/></a>"
      ]
    },
    {
      "cell_type": "markdown",
      "metadata": {
        "id": "Go7RQgxwhCM3"
      },
      "source": [
        "# Blocos e Identação\n",
        "\n",
        "## Estrutura\n",
        "Sempre que usamos o if ou qualquer outra estrutura no Python, devemos usar a identação para dizer para o Programa onde a estrutura começa e onde ela termina.\n",
        "\n",
        "Isso vai ajudar muito quando tivermos mais de 1 condição ao mesmo tempo e quando tivermos várias ações para fazer dentro de um if.\n",
        "\n",
        "### Várias ações em 1 if:"
      ]
    },
    {
      "cell_type": "raw",
      "metadata": {
        "id": "N7tzT8WdhCM9"
      },
      "source": [
        "if condicao:\n",
        "    alguma coisa\n",
        "    outra coisa\n",
        "    outra coisa mais\n",
        "    outra coisa ainda mais\n",
        "else:\n",
        "    uma coisa\n",
        "    uma coisa mais\n",
        "    coisa final"
      ]
    },
    {
      "cell_type": "markdown",
      "metadata": {
        "id": "27nX3U1NhCM-"
      },
      "source": [
        "## Exemplo\n",
        "Vamos fazer um novo exemplo abaixo:\n",
        "\n",
        "Digamos que você precisa criar um programa para um fundo de investimentos conseguir avaliar o resultado de uma carteira de ações e o quanto de taxa deverá ser pago.\n",
        "\n",
        "A regra desse fundo de investimentos é:\n",
        "\n",
        "- O fundo se compromete a entregar no mínimo 5% de retorno ao ano.\n",
        "- Caso o fundo não consiga entregar os 5% de retorno, ele não pode cobrar taxa dos seus investidores.\n",
        "- Caso o fundo consiga entregar mais de 5% de retorno, ele irá cobrar 2% de taxa dos seus investidores.\n",
        "- Caso o fundo consiga mais de 20% de retorno, ele irá cobrar 4% de taxa dos seus investidores."
      ]
    },
    {
      "cell_type": "code",
      "execution_count": null,
      "metadata": {
        "id": "ONqiSe6PhCM_",
        "outputId": "b78f18c1-3c37-444a-f741-7ad11e13879d"
      },
      "outputs": [
        {
          "name": "stdout",
          "output_type": "stream",
          "text": [
            "A taxa foi de 0.04\n"
          ]
        }
      ],
      "source": [
        "meta = 0.05\n",
        "taxa = 0\n",
        "rendimento = 0.25\n",
        "\n",
        "if rendimento > meta:\n",
        "    if rendimento > 0.20:\n",
        "        taxa = 0.04\n",
        "        print('A taxa foi de {}'.format(taxa))\n",
        "    else:        \n",
        "        taxa = 0.02\n",
        "        print('A taxa foi de {}'.format(taxa))\n",
        "else:\n",
        "    taxa = 0\n",
        "    print('A taxa foi de {}'.format(taxa))"
      ]
    },
    {
      "cell_type": "markdown",
      "metadata": {
        "id": "69G29DD3hCNA"
      },
      "source": [
        "### Mais de uma condição ao mesmo tempo:"
      ]
    },
    {
      "cell_type": "raw",
      "metadata": {
        "id": "eoCRNoVDhCNB"
      },
      "source": [
        "if condicao_1:\n",
        "    o que fazer se a condição 1 for verdadeira\n",
        "    if condicao_2:\n",
        "        o que fazer se a condição 1 e 2 for verdadeira\n",
        "    else:\n",
        "        o que fazer se a condição 2 for falsa (mas a condição 1 é verdadeira)\n",
        "else:\n",
        "    o que fazer se a condição 1 for falsa"
      ]
    },
    {
      "cell_type": "markdown",
      "metadata": {
        "id": "y7e2OcVkhCND"
      },
      "source": [
        "## Cuidado importante: repetição de código\n",
        "\n",
        "Sempre que possível, evite repetir código. De forma geral:<br>\n",
        "\"Se você está repetindo um código, existe uma forma melhor de fazer\""
      ]
    }
  ],
  "metadata": {
    "kernelspec": {
      "display_name": "Python 3",
      "language": "python",
      "name": "python3"
    },
    "language_info": {
      "codemirror_mode": {
        "name": "ipython",
        "version": 3
      },
      "file_extension": ".py",
      "mimetype": "text/x-python",
      "name": "python",
      "nbconvert_exporter": "python",
      "pygments_lexer": "ipython3",
      "version": "3.8.3"
    },
    "colab": {
      "name": "Gabarito - Módulo if - Aula 02.ipynb",
      "provenance": [],
      "include_colab_link": true
    }
  },
  "nbformat": 4,
  "nbformat_minor": 0
}