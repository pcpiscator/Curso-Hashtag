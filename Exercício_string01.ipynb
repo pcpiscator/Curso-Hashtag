{
  "nbformat": 4,
  "nbformat_minor": 0,
  "metadata": {
    "colab": {
      "name": "Exercício string01.ipynb",
      "provenance": [],
      "authorship_tag": "ABX9TyOk71kWW+hQyyvl0hZSp67j",
      "include_colab_link": true
    },
    "kernelspec": {
      "name": "python3",
      "display_name": "Python 3"
    },
    "language_info": {
      "name": "python"
    }
  },
  "cells": [
    {
      "cell_type": "markdown",
      "metadata": {
        "id": "view-in-github",
        "colab_type": "text"
      },
      "source": [
        "<a href=\"https://colab.research.google.com/github/pcpiscator/Curso-Hashtag/blob/main/Exerc%C3%ADcio_string01.ipynb\" target=\"_parent\"><img src=\"https://colab.research.google.com/assets/colab-badge.svg\" alt=\"Open In Colab\"/></a>"
      ]
    },
    {
      "cell_type": "markdown",
      "source": [
        "# Cadastro de CPF\n",
        "\n",
        "Crie um programa para cadastro de CPF de clientes que recebe o CPF em um input box apenas com números.\n",
        "\n",
        "Ex: 'Insira seu CPF (digite apenas números)'\n",
        "\n",
        "Caso o usuário digite algo diferente de números ou digite menos de 11 caracteres (tamanho do CPF brasileiro), o programa deve exibir uma mensagem de \"Digite seu CPF corretamente e digite apenas números\"\n",
        "\"\"\""
      ],
      "metadata": {
        "id": "IbWcTD1l_I9J"
      }
    },
    {
      "cell_type": "code",
      "execution_count": 2,
      "metadata": {
        "colab": {
          "base_uri": "https://localhost:8080/"
        },
        "id": "jf7P-mLf-TXA",
        "outputId": "1ba668e0-e1cf-436f-d312-00da5d4e17ce"
      },
      "outputs": [
        {
          "output_type": "stream",
          "name": "stdout",
          "text": [
            "Insira seu CPF (digite apenas números)33784256872\n",
            "33784256872\n"
          ]
        }
      ],
      "source": [
        "cpf = input('Insira seu CPF (digite apenas números)')\n",
        "if len(cpf) == 11 and cpf.isnumeric():\n",
        "    print(cpf)\n",
        "else:\n",
        "    print('Digite seu CPF corretamente e digite apenas números')"
      ]
    },
    {
      "cell_type": "code",
      "execution_count": 3,
      "metadata": {
        "colab": {
          "base_uri": "https://localhost:8080/"
        },
        "id": "7AN0kvnCADF4",
        "outputId": "36b9492f-d385-4e7c-f72c-6f2dfd6179dd"
      },
      "outputs": [
        {
          "output_type": "stream",
          "name": "stdout",
          "text": [
            "Insira seu CPF (digite apenas números)337842568\n",
            "Digite seu CPF corretamente e digite apenas números\n"
          ]
        }
      ],
      "source": [
        "cpf = input('Insira seu CPF (digite apenas números)')\n",
        "if len(cpf) == 11 and cpf.isnumeric():\n",
        "    print(cpf)\n",
        "else:\n",
        "    print('Digite seu CPF corretamente e digite apenas números')"
      ]
    },
    {
      "cell_type": "markdown",
      "source": [
        "# Melhorando nosso Cadastro de CPF\n",
        "\n",
        "Agora, além das validações anteriores, vamos criar um input que permita que o usuário insira pontos, traços e inclusive espaços vazios.\n",
        "\n",
        "Nosso programa deve \"tratar\" o que o usuário inserir para padronizar o CPF dele em apenas números.\n",
        "\n",
        "A verificação de tamanho do CPF com 11 caracteres continua válida, mas ela só deve ser feita depois de retirar todos os pontos, traços e espaços do CPF que o cliente inserir e, uma vez retirados pontos, traços e espaços, devem sobrar apenas números no CPF. Qualquer outro caráter deve ser considerado inválido.\n",
        "\n",
        "No final, nosso programa deve exibir uma mensagem para o usuário, caso ele tenha inserido o CPF inválido ou então apenas deve imprimir o CPF correto já só com número."
      ],
      "metadata": {
        "id": "3hMFku_OB30R"
      }
    },
    {
      "cell_type": "code",
      "source": [
        "cpf = input('Insira seu CPF')\n",
        "\n",
        "#tratar o cpf\n",
        "\n",
        "#tirar espaços no inicio e no final\n",
        "cpf = cpf.strip()\n",
        "#tirar os . (pontos)\n",
        "cpf = cpf.replace('.', '')\n",
        "#tirar os traços (-)\n",
        "cpf = cpf.replace('-', '')\n",
        "\n",
        "if len(cpf) == 11 and cpf.isnumeric():\n",
        "    print(cpf)\n",
        "else:\n",
        "    print('Digite seu CPF corretamente e digite apenas números')\n"
      ],
      "metadata": {
        "colab": {
          "base_uri": "https://localhost:8080/"
        },
        "id": "0KF5NkmIAVub",
        "outputId": "b646e3f8-1d31-43cd-c6d7-ebefa44f5a0c"
      },
      "execution_count": 4,
      "outputs": [
        {
          "output_type": "stream",
          "name": "stdout",
          "text": [
            "Insira seu CPF337.842.568-72\n",
            "33784256872\n"
          ]
        }
      ]
    },
    {
      "cell_type": "code",
      "source": [
        "cpf = input('Insira seu CPF')\n",
        "\n",
        "#tratar o cpf\n",
        "\n",
        "#tirar espaços no inicio e no final\n",
        "cpf = cpf.strip()\n",
        "#tirar os . (pontos)\n",
        "cpf = cpf.replace('.', '')\n",
        "#tirar os traços (-)\n",
        "cpf = cpf.replace('-', '')\n",
        "\n",
        "if len(cpf) == 11 and cpf.isnumeric():\n",
        "    print(cpf)\n",
        "else:\n",
        "    print('Digite seu CPF corretamente e digite apenas números')\n"
      ],
      "metadata": {
        "colab": {
          "base_uri": "https://localhost:8080/"
        },
        "id": "sraPnf_3DILc",
        "outputId": "66d8d427-4231-4a28-8076-341b45ea9711"
      },
      "execution_count": 6,
      "outputs": [
        {
          "output_type": "stream",
          "name": "stdout",
          "text": [
            "Insira seu CPF337.842.568- 72\n",
            "Digite seu CPF corretamente e digite apenas números\n"
          ]
        }
      ]
    },
    {
      "cell_type": "markdown",
      "source": [
        "# Cadastro de e-mails\n",
        "\n",
        "- A Hashtag sempre se comunica com seus clientes por e-mail. Para isso, a gente tem em cada página um cadastro de nome e e-mail. Nesse cadastro, nosso sistema verifica se o e-mail que a pessoa inseriu é um e-mail válido, verificando se ele tem '@' e se depois do '@' tem algum ponto, afinal:\n",
        "\n",
        "- liragmail.com NÃO é um e-mail válido\n",
        "- lira@gmail NÃO é um e-mail válido\n",
        "- lira@gmail.com é um e-mail válido\n",
        "\n",
        "Crie um programa que permita o cadastro de nome e e-mail de uma pessoa (por meio de inputs) e que verifique:\n",
        "1. Se nome e e-mail foram preenchidos, caso contrário ele deve avisar para preencher todos os dados corretamente\n",
        "2. Se o e-mail contém '@' e se depois do '@' existe algum '.', caso contrário ele deve exibir uma mensagem de e-mail inválido\n",
        "\n",
        "Obs: Pode te ajudar lembrar do método .find da aula de Métodos de String. Você pode testar o que ele dá como resposta caso ele não encontre um item dentro da string\n",
        "\"\"\"\n",
        "\n",
        "nome = input('Digite seu nome')\n",
        "email = input('Digite o seu e-mail')\n",
        "\n",
        "if nome and email:\n",
        "    pos_a = email.find('@')\n",
        "    servidor = email[pos_a:]\n",
        "    if pos_a != -1 and '.' in servidor:\n",
        "        print('Cadastro concluído')\n",
        "    else:\n",
        "        print('Email inválido')\n",
        "else:\n",
        "    print('Digite seu nome e e-mail corretamente')"
      ],
      "metadata": {
        "id": "1E8_OOcJDeUJ"
      }
    },
    {
      "cell_type": "code",
      "source": [
        "nome = input('Digite seu nome')\n",
        "email = input('Digite o seu e-mail')\n",
        "\n",
        "if nome and email:\n",
        "    pos_a = email.find('@')\n",
        "    servidor = email[pos_a:]\n",
        "    if pos_a != -1 and '.' in servidor:\n",
        "        print('Cadastro concluído')\n",
        "    else:\n",
        "        print('Email inválido')\n",
        "else:\n",
        "    print('Digite seu nome e e-mail corretamente')"
      ],
      "metadata": {
        "colab": {
          "base_uri": "https://localhost:8080/"
        },
        "id": "1fkDuv1kESK1",
        "outputId": "9c714548-4306-44aa-d0f3-e8f36ac4d8b2"
      },
      "execution_count": 7,
      "outputs": [
        {
          "output_type": "stream",
          "name": "stdout",
          "text": [
            "Digite seu nomePeters\n",
            "Digite o seu e-mailpiscator@furg.br\n",
            "Cadastro concluído\n"
          ]
        }
      ]
    },
    {
      "cell_type": "code",
      "source": [
        "nome = input('Digite seu nome')\n",
        "email = input('Digite o seu e-mail')\n",
        "\n",
        "if nome and email:\n",
        "    pos_a = email.find('@')\n",
        "    servidor = email[pos_a:]\n",
        "    if pos_a != -1 and '.' in servidor:\n",
        "        print('Cadastro concluído')\n",
        "    else:\n",
        "        print('Email inválido')\n",
        "else:\n",
        "    print('Digite seu nome e e-mail corretamente')\n",
        "    "
      ],
      "metadata": {
        "colab": {
          "base_uri": "https://localhost:8080/"
        },
        "id": "SFE6l6jRFFTd",
        "outputId": "aac9bcf8-8e0b-4dd6-a16a-7f9db827d9aa"
      },
      "execution_count": 8,
      "outputs": [
        {
          "output_type": "stream",
          "name": "stdout",
          "text": [
            "Digite seu nomePeters\n",
            "Digite o seu e-mailpiscator.furg.br\n",
            "Email inválido\n"
          ]
        }
      ]
    },
    {
      "cell_type": "code",
      "source": [
        "nome = input('Digite seu nome')\n",
        "email = input('Digite o seu e-mail')\n",
        "\n",
        "if nome and email:\n",
        "    pos_a = email.find('@')\n",
        "    servidor = email[pos_a:]\n",
        "    if pos_a != -1 and '.' in servidor:\n",
        "        print('Cadastro concluído')\n",
        "    else:\n",
        "        print('Email inválido')\n",
        "else:\n",
        "    print('Digite seu nome e e-mail corretamente')\n",
        "    "
      ],
      "metadata": {
        "colab": {
          "base_uri": "https://localhost:8080/"
        },
        "outputId": "69b79db1-94ea-4e23-aab2-f536ecf28d38",
        "id": "r17ypf3IFkIC"
      },
      "execution_count": 9,
      "outputs": [
        {
          "output_type": "stream",
          "name": "stdout",
          "text": [
            "Digite seu nomePeters\n",
            "Digite o seu e-mailpiscator.furg\n",
            "Email inválido\n"
          ]
        }
      ]
    },
    {
      "cell_type": "code",
      "source": [
        "nome = input('Digite seu nome')\n",
        "email = input('Digite o seu e-mail')\n",
        "\n",
        "if nome and email:\n",
        "    pos_a = email.find('@')\n",
        "    servidor = email[pos_a:]\n",
        "    if pos_a != -1 and '.' in servidor:\n",
        "        print('Cadastro concluído')\n",
        "    else:\n",
        "        print('Email inválido')\n",
        "else:\n",
        "    print('Digite seu nome e e-mail corretamente')\n",
        "    # observar o erro do exercício"
      ],
      "metadata": {
        "colab": {
          "base_uri": "https://localhost:8080/"
        },
        "outputId": "34df29ca-f892-482a-dca6-cce4c50adc71",
        "id": "QYcrGJLtFos9"
      },
      "execution_count": 11,
      "outputs": [
        {
          "output_type": "stream",
          "name": "stdout",
          "text": [
            "Digite seu nomePeters\n",
            "Digite o seu e-mailpiscator.furg@.br\n",
            "Cadastro concluído\n"
          ]
        }
      ]
    }
  ]
}