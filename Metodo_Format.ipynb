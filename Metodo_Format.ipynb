{
  "cells": [
    {
      "cell_type": "markdown",
      "metadata": {
        "id": "view-in-github",
        "colab_type": "text"
      },
      "source": [
        "<a href=\"https://colab.research.google.com/github/pcpiscator/Curso-Hashtag/blob/main/Metodo_Format.ipynb\" target=\"_parent\"><img src=\"https://colab.research.google.com/assets/colab-badge.svg\" alt=\"Open In Colab\"/></a>"
      ]
    },
    {
      "cell_type": "markdown",
      "metadata": {
        "id": "DWpEtd0bnr_Q"
      },
      "source": [
        "### Forma que fizemos na última aula (concatenando textos)"
      ]
    },
    {
      "cell_type": "code",
      "execution_count": null,
      "metadata": {
        "id": "RQJOWS3tnr_a"
      },
      "outputs": [],
      "source": [
        "faturamento = 2000\n",
        "custo = 500\n",
        "lucro = faturamento - custo\n",
        "\n",
        "print('O faturamento da loja foi ' + str(faturamento) + '.O custo da loja foi ' + str(custo) + '.Assim, o lucro da loja foi de ' + str(lucro))"
      ]
    },
    {
      "cell_type": "markdown",
      "metadata": {
        "id": "CJbv76SVnr_d"
      },
      "source": [
        "### Método format"
      ]
    },
    {
      "cell_type": "code",
      "execution_count": 1,
      "metadata": {
        "id": "UUGYh2IInr_f",
        "outputId": "21297973-10df-48e8-cbbb-0b21218d3816",
        "colab": {
          "base_uri": "https://localhost:8080/"
        }
      },
      "outputs": [
        {
          "output_type": "stream",
          "name": "stdout",
          "text": [
            "O faturamento da loja foi 2000. O custo da loja foi 500. Assim, o lucro da loja foi 1500\n"
          ]
        }
      ],
      "source": [
        "faturamento = 2000\n",
        "custo = 500\n",
        "lucro = faturamento - custo\n",
        "\n",
        "print('O faturamento da loja foi {}. O custo da loja foi {}. Assim, o lucro da loja foi {}'.format(faturamento, custo, lucro))"
      ]
    }
  ],
  "metadata": {
    "kernelspec": {
      "display_name": "Python 3",
      "language": "python",
      "name": "python3"
    },
    "language_info": {
      "codemirror_mode": {
        "name": "ipython",
        "version": 3
      },
      "file_extension": ".py",
      "mimetype": "text/x-python",
      "name": "python",
      "nbconvert_exporter": "python",
      "pygments_lexer": "ipython3",
      "version": "3.8.3"
    },
    "colab": {
      "name": "Metodo Format.ipynb",
      "provenance": [],
      "include_colab_link": true
    }
  },
  "nbformat": 4,
  "nbformat_minor": 0
}