{
  "nbformat": 4,
  "nbformat_minor": 0,
  "metadata": {
    "colab": {
      "name": "Python 01-Automação.ipynb",
      "provenance": [],
      "authorship_tag": "ABX9TyNIKkaTIT6Pb1WRd5j5yFk3",
      "include_colab_link": true
    },
    "kernelspec": {
      "name": "python3",
      "display_name": "Python 3"
    },
    "language_info": {
      "name": "python"
    }
  },
  "cells": [
    {
      "cell_type": "markdown",
      "metadata": {
        "id": "view-in-github",
        "colab_type": "text"
      },
      "source": [
        "<a href=\"https://colab.research.google.com/github/pcpiscator/Diversos22/blob/main/Python_01_Automa%C3%A7%C3%A3o.ipynb\" target=\"_parent\"><img src=\"https://colab.research.google.com/assets/colab-badge.svg\" alt=\"Open In Colab\"/></a>"
      ]
    },
    {
      "cell_type": "markdown",
      "source": [
        "Automação de sistemas e processos com o Python"
      ],
      "metadata": {
        "id": "A-_qpWc7ij9O"
      }
    },
    {
      "cell_type": "code",
      "execution_count": null,
      "metadata": {
        "id": "0zT9O8Nx_22q"
      },
      "outputs": [],
      "source": [
        ""
      ]
    }
  ]
}