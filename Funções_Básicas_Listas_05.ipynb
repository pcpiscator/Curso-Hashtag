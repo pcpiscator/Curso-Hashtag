{
  "cells": [
    {
      "cell_type": "markdown",
      "metadata": {
        "id": "view-in-github",
        "colab_type": "text"
      },
      "source": [
        "<a href=\"https://colab.research.google.com/github/pcpiscator/Curso-Hashtag/blob/main/Fun%C3%A7%C3%B5es_B%C3%A1sicas_Listas_05.ipynb\" target=\"_parent\"><img src=\"https://colab.research.google.com/assets/colab-badge.svg\" alt=\"Open In Colab\"/></a>"
      ]
    },
    {
      "cell_type": "markdown",
      "metadata": {
        "id": "YrOcHHCtFnSR"
      },
      "source": [
        "# Algumas Funções Básicas de Lista\n",
        "\n",
        "## Tamanho da Lista\n",
        "\n",
        "tamanho = len(lista)"
      ]
    },
    {
      "cell_type": "code",
      "execution_count": null,
      "metadata": {
        "id": "1Dujsjn4FnSU"
      },
      "outputs": [],
      "source": [
        "produtos = ['apple tv', 'mac', 'iphone x', 'IPad', 'apple watch', 'mac book', 'airpods']"
      ]
    },
    {
      "cell_type": "markdown",
      "metadata": {
        "id": "XgWZ1AhaFnSW"
      },
      "source": [
        "- Quantos produtos temos a venda?"
      ]
    },
    {
      "cell_type": "code",
      "execution_count": null,
      "metadata": {
        "id": "Cu5tJe1-FnSW",
        "outputId": "1956c3e0-43cb-4bea-b310-52314169bd51"
      },
      "outputs": [
        {
          "name": "stdout",
          "output_type": "stream",
          "text": [
            "Temos 7 produtos\n"
          ]
        }
      ],
      "source": [
        "tamanho = len(produtos)\n",
        "print('Temos {} produtos'.format(tamanho))"
      ]
    },
    {
      "cell_type": "markdown",
      "metadata": {
        "id": "RpXlDG_5FnSX"
      },
      "source": [
        "## Maior e Menor Valor\n",
        "\n",
        "maior = max(lista)\n",
        "\n",
        "menor = min(lista)"
      ]
    },
    {
      "cell_type": "code",
      "execution_count": null,
      "metadata": {
        "id": "oOH0SCJLFnSY"
      },
      "outputs": [],
      "source": [
        "vendas = [1000, 1500, 15000, 270, 900, 100, 1200]"
      ]
    },
    {
      "cell_type": "markdown",
      "metadata": {
        "id": "rRhCgknBFnSY"
      },
      "source": [
        "- Qual o item mais vendido?\n",
        "- Qual o item menos vendido?"
      ]
    },
    {
      "cell_type": "code",
      "execution_count": null,
      "metadata": {
        "id": "ojl95cjMFnSZ",
        "outputId": "106de7a9-53eb-44da-a8ef-79815f90413b"
      },
      "outputs": [
        {
          "name": "stdout",
          "output_type": "stream",
          "text": [
            "O produto mais vendido teve 15000 unidades vendidas e o menos vendido teve 100 unidades vendidas\n"
          ]
        }
      ],
      "source": [
        "mais_vendido = max(vendas)\n",
        "menos_vendido = min(vendas)\n",
        "print('O produto mais vendido teve {} unidades vendidas e o menos vendido teve {} unidades vendidas'.format(mais_vendido, menos_vendido))"
      ]
    },
    {
      "cell_type": "code",
      "execution_count": null,
      "metadata": {
        "id": "PqQ-L40PFnSZ",
        "outputId": "26779557-0fef-4d7e-a2d4-aae1845765a6"
      },
      "outputs": [
        {
          "name": "stdout",
          "output_type": "stream",
          "text": [
            "iphone x\n",
            "mac book\n"
          ]
        }
      ],
      "source": [
        "i = vendas.index(mais_vendido)\n",
        "produto_mais_vendido = produtos[i]\n",
        "\n",
        "print(produto_mais_vendido)\n",
        "\n",
        "i = vendas.index(menos_vendido)\n",
        "produto_menos_vendido = produtos[i]\n",
        "\n",
        "print(produto_menos_vendido)"
      ]
    }
  ],
  "metadata": {
    "kernelspec": {
      "display_name": "Python 3",
      "language": "python",
      "name": "python3"
    },
    "language_info": {
      "codemirror_mode": {
        "name": "ipython",
        "version": 3
      },
      "file_extension": ".py",
      "mimetype": "text/x-python",
      "name": "python",
      "nbconvert_exporter": "python",
      "pygments_lexer": "ipython3",
      "version": "3.8.3"
    },
    "colab": {
      "name": "Funções Básicas-Listas 05.ipynb",
      "provenance": [],
      "include_colab_link": true
    }
  },
  "nbformat": 4,
  "nbformat_minor": 0
}