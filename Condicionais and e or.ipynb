{
 "cells": [
  {
   "cell_type": "markdown",
   "metadata": {},
   "source": [
    "Casos com várias condições/comparações\n",
    "Estrutura:\n",
    "Quando temos várias comparações, ao invés de criar if dentro de if podemos usar os operadores  \"and\" e \"or\" para tratar essas condições.\n",
    "\n",
    "Funciona assim:"
   ]
  },
  {
   "cell_type": "code",
   "execution_count": 4,
   "metadata": {},
   "outputs": [
    {
     "name": "stdout",
     "output_type": "stream",
     "text": [
      "Bonus do funcionário foi de 4500.0\n"
     ]
    }
   ],
   "source": [
    "meta_funcionario = 50000\n",
    "meta_loja = 2500000\n",
    "vendas_funcionario = 150000\n",
    "vendas_loja = 3000000\n",
    "\n",
    "if vendas_funcionario > meta_funcionario and vendas_loja > meta_loja:\n",
    "    bonus = 0.03 * vendas_funcionario\n",
    "    print('Bonus do funcionário foi de {}'.format(bonus))\n",
    "else:\n",
    "    print('Funcionário não ganhou bônus')"
   ]
  },
  {
   "cell_type": "code",
   "execution_count": 12,
   "metadata": {},
   "outputs": [
    {
     "name": "stdout",
     "output_type": "stream",
     "text": [
      "Funcionário não ganhou bônus\n"
     ]
    }
   ],
   "source": [
    "meta_funcionario=5000\n",
    "meta_loja = 35000\n",
    "vendas_funcionario = 3000\n",
    "vendas_loja = 40000\n",
    "if vendas_funcionario > meta_funcionario and vendas_loja > meta_loja:\n",
    "     bonus = 0.03 * vendas_funcionario \n",
    "     print('Bonus do funcionário foi de {}'.format(bonus))\n",
    "else:\n",
    "    print('Funcionário não ganhou bônus')\n",
    "    "
   ]
  },
  {
   "cell_type": "code",
   "execution_count": 13,
   "metadata": {},
   "outputs": [
    {
     "name": "stdout",
     "output_type": "stream",
     "text": [
      "Funcionário não ganhou bônus\n"
     ]
    }
   ],
   "source": [
    "nota_funcionario = 5\n",
    "meta_nota = 9\n",
    "\n",
    "if nota_funcionario >= meta_nota or (vendas_funcionario > meta_funcionario and vendas_loja > meta_loja):\n",
    "    bonus = 0.03 * vendas_funcionario\n",
    "    print('Bonus do funcionario foi de {}'.format(bonus))\n",
    "else:\n",
    "    print('Funcionário não ganhou bônus')"
   ]
  },
  {
   "cell_type": "code",
   "execution_count": null,
   "metadata": {},
   "outputs": [],
   "source": []
  }
 ],
 "metadata": {
  "kernelspec": {
   "display_name": "Python 3",
   "language": "python",
   "name": "python3"
  },
  "language_info": {
   "codemirror_mode": {
    "name": "ipython",
    "version": 3
   },
   "file_extension": ".py",
   "mimetype": "text/x-python",
   "name": "python",
   "nbconvert_exporter": "python",
   "pygments_lexer": "ipython3",
   "version": "3.8.3"
  }
 },
 "nbformat": 4,
 "nbformat_minor": 4
}
