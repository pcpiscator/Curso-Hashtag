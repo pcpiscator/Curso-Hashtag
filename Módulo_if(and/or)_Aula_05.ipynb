{
  "cells": [
    {
      "cell_type": "markdown",
      "metadata": {
        "id": "view-in-github",
        "colab_type": "text"
      },
      "source": [
        "<a href=\"https://colab.research.google.com/github/pcpiscator/Curso-Hashtag/blob/main/M%C3%B3dulo_if(and/or)_Aula_05.ipynb\" target=\"_parent\"><img src=\"https://colab.research.google.com/assets/colab-badge.svg\" alt=\"Open In Colab\"/></a>"
      ]
    },
    {
      "cell_type": "markdown",
      "metadata": {
        "id": "36evZ0IK6NUL"
      },
      "source": [
        "# Casos com várias condições/comparações\n",
        "\n",
        "### Estrutura:\n",
        "\n",
        "Quando temos várias comparações, ao invés de criar if dentro de if podemos usar os operadores \"and\" e \"or\" para tratar essas condições.\n",
        "\n",
        "Funciona assim:"
      ]
    },
    {
      "cell_type": "raw",
      "metadata": {
        "id": "SYlCLdyT6NUQ"
      },
      "source": [
        "if condicao_1 and condicao_2:\n",
        "    vai ser executado se as 2 condições forem verdadeiras ao mesmo tempo\n",
        "\n",
        "outro caso:\n",
        "\n",
        "if condicao_1 or condicao_2:\n",
        "    vai ser executado se pelo menos uma das condições forem verdadeiras"
      ]
    },
    {
      "cell_type": "markdown",
      "metadata": {
        "id": "OEw0zblA6NUR"
      },
      "source": [
        "### Exemplo\n",
        "\n",
        "Vamos voltar ao exemplo de cálculo de meta de vendas dos funcionários. Muitas empresas atribuem bonificação do salário dos funcionários de acordo com o resultado do funcionário e também com o resultado da empresa como um todo.\n",
        "\n",
        "Nesse caso, a regra funciona da seguinte forma:\n",
        "- Se o funcionário vendeu mais do que a meta de vendas e a loja bateu a meta de vendas da loja, o funcionário ganha 3% do que ele vendeu em forma de bônus.\n",
        "- Caso o funcionário tenha batido a meta de vendas individual dele, mas a loja não tenha batido a meta de vendas da loja como um todo, o funcionário não ganha bônus."
      ]
    },
    {
      "cell_type": "code",
      "execution_count": null,
      "metadata": {
        "id": "fpOGKnH16NUS",
        "outputId": "00fe766d-3a6b-4f39-98c6-1e183cf01ba1"
      },
      "outputs": [
        {
          "name": "stdout",
          "output_type": "stream",
          "text": [
            "Funcionário não ganhou bônus\n"
          ]
        }
      ],
      "source": [
        "meta_funcionario = 10000\n",
        "meta_loja = 250000\n",
        "vendas_funcionario = 15000\n",
        "vendas_loja = 0\n",
        "\n",
        "if vendas_funcionario > meta_funcionario and vendas_loja > meta_loja:\n",
        "    bonus = 0.03 * vendas_funcionario\n",
        "    print('Bonus do funcionário foi de {}'.format(bonus))\n",
        "else:\n",
        "    print('Funcionário não ganhou bônus')"
      ]
    },
    {
      "cell_type": "markdown",
      "metadata": {
        "id": "3_Ff-AUq6NUT"
      },
      "source": [
        "### Outro exemplo\n",
        "\n",
        "Agora vamos levar essa análise mais a fundo.\n",
        "\n",
        "Nessa empresa, existe um outro caso também que garante que o funcionário ganhe um bônus, independente das vendas que ele fez naquele mês.\n",
        "\n",
        "Todo mês os diretores da empresa fazem uma avaliação qualitativa de todos os funcionários. Nessa avaliação os diretores dão uma nota de 0 a 10 para cada funcionário. Se a nota do funcionário for 9 ou 10, ele também ganha o bônus de 3% do valor de vendas. (os bônus não são cumulativos)"
      ]
    },
    {
      "cell_type": "code",
      "execution_count": null,
      "metadata": {
        "id": "v5CBf3Rd6NUU",
        "outputId": "1597ea26-d971-4fa1-c69d-5ba0e21b9a16"
      },
      "outputs": [
        {
          "name": "stdout",
          "output_type": "stream",
          "text": [
            "Funcionário não ganhou bônus\n"
          ]
        }
      ],
      "source": [
        "nota_funcionario = 5\n",
        "meta_nota = 9\n",
        "\n",
        "if nota_funcionario >= meta_nota or (vendas_funcionario > meta_funcionario and vendas_loja > meta_loja):\n",
        "    bonus = 0.03 * vendas_funcionario\n",
        "    print('Bonus do funcionario foi de {}'.format(bonus))\n",
        "else:\n",
        "    print('Funcionário não ganhou bônus')"
      ]
    }
  ],
  "metadata": {
    "kernelspec": {
      "display_name": "Python 3",
      "language": "python",
      "name": "python3"
    },
    "language_info": {
      "codemirror_mode": {
        "name": "ipython",
        "version": 3
      },
      "file_extension": ".py",
      "mimetype": "text/x-python",
      "name": "python",
      "nbconvert_exporter": "python",
      "pygments_lexer": "ipython3",
      "version": "3.8.3"
    },
    "colab": {
      "name": "Gabarito - Módulo if - Aula 05.ipynb",
      "provenance": [],
      "include_colab_link": true
    }
  },
  "nbformat": 4,
  "nbformat_minor": 0
}