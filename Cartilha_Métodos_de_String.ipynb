{
  "cells": [
    {
      "cell_type": "markdown",
      "metadata": {
        "id": "view-in-github",
        "colab_type": "text"
      },
      "source": [
        "<a href=\"https://colab.research.google.com/github/pcpiscator/Curso-Hashtag/blob/main/Cartilha_M%C3%A9todos_de_String.ipynb\" target=\"_parent\"><img src=\"https://colab.research.google.com/assets/colab-badge.svg\" alt=\"Open In Colab\"/></a>"
      ]
    },
    {
      "cell_type": "markdown",
      "metadata": {
        "id": "Z-zL1p7cuknp"
      },
      "source": [
        "# Métodos de String\n",
        "\n",
        "Não decore os métodos, os que você for mais usando com o tempo você vai decorar o que precisar.\n",
        "\n",
        "Mas a dica é: use essa lista para consulta e busque entender como os métodos funcionam e suas aplicações, para poder consultar e usar quando precisar.\n",
        "\n",
        "## Métodos Embutidos no Python que funcionam em string:"
      ]
    },
    {
      "cell_type": "markdown",
      "metadata": {
        "id": "d1mwj0houknz"
      },
      "source": [
        "- Sinal de Mais (+) -> Serve para concatenar strings"
      ]
    },
    {
      "cell_type": "raw",
      "metadata": {
        "id": "Jtp1Q311ukn2"
      },
      "source": [
        "    Uso: \n",
        "        usuario = 'lira'\n",
        "        servidor = 'gmail.com'\n",
        "        print(usuario + '@' + servidor)\n",
        "    Resultado: \n",
        "        'lira@gmail.com'"
      ]
    },
    {
      "cell_type": "markdown",
      "metadata": {
        "id": "5Ji1YerRukn4"
      },
      "source": [
        "- str() -> transforma o valor em string"
      ]
    },
    {
      "cell_type": "raw",
      "metadata": {
        "id": "RPUQDSZOukn5"
      },
      "source": [
        "    Uso: \n",
        "        faturamento = 1000\n",
        "        print('O faturamento da loja foi de ' + str(faturamento))\n",
        "    Resultado: \n",
        "        'O faturamento da loja foi de 1000'"
      ]
    },
    {
      "cell_type": "markdown",
      "metadata": {
        "id": "UgQbSzcCukn6"
      },
      "source": [
        "- in e not -> Servem para fazer verificações em string"
      ]
    },
    {
      "cell_type": "raw",
      "metadata": {
        "id": "U9ittj6uukn7"
      },
      "source": [
        "    Uso: \n",
        "        servidor = 'gmail.com'\n",
        "        print(servidor in 'lira@gmail.com')\n",
        "        print(servidor not in lira@gmail.com')\n",
        "    Resultado: \n",
        "        True\n",
        "        False"
      ]
    },
    {
      "cell_type": "markdown",
      "metadata": {
        "id": "Lr8VRT6Mukn8"
      },
      "source": [
        "- len() -> Calcula o tamanho do texto (quantidade de caracteres)"
      ]
    },
    {
      "cell_type": "raw",
      "metadata": {
        "id": "1tXY5ngSukn9"
      },
      "source": [
        "    Uso: \n",
        "        cpf = '15389731821'\n",
        "        print('O cpf tem' + len(cpf) + 'digitos.')\n",
        "    Resultado: \n",
        "        'O cpf tem 11 digitos'"
      ]
    },
    {
      "cell_type": "markdown",
      "metadata": {
        "id": "vwG9pfWgukn9"
      },
      "source": [
        "## Métodos Específicos de String:"
      ]
    },
    {
      "cell_type": "markdown",
      "metadata": {
        "id": "gMy2EuQjukn-"
      },
      "source": [
        "- capitalize() -> Coloca a 1ª letra Maiúscula"
      ]
    },
    {
      "cell_type": "raw",
      "metadata": {
        "id": "xp-jmrzrukn-"
      },
      "source": [
        "    Uso: \n",
        "        texto = 'lira'\n",
        "        print(texto.capitalize())\n",
        "    Resultado: \n",
        "        'Lira'"
      ]
    },
    {
      "cell_type": "markdown",
      "metadata": {
        "id": "hY6zgoYGukn_"
      },
      "source": [
        "- casefold() -> Transforma todas as letras em minúsculas (existe lower() mas o casefold é melhor normalmente)"
      ]
    },
    {
      "cell_type": "raw",
      "metadata": {
        "id": "zPIdtEihukn_"
      },
      "source": [
        "    Uso: \n",
        "        texto = 'Lira'\n",
        "        print(texto.casefold())\n",
        "    Resultado: \n",
        "        'lira'"
      ]
    },
    {
      "cell_type": "markdown",
      "metadata": {
        "id": "xSJ7BKE4ukoA"
      },
      "source": [
        "- count()\t-> Quantidade de vezes que um valor aparece na string"
      ]
    },
    {
      "cell_type": "raw",
      "metadata": {
        "id": "gTrrjEm9ukoB"
      },
      "source": [
        "    Uso:\n",
        "        texto = 'lira@yahoo.com.br'\n",
        "        print(texto.count('.'))\n",
        "    Resultado:\n",
        "        2"
      ]
    },
    {
      "cell_type": "markdown",
      "metadata": {
        "id": "76c100JGukoB"
      },
      "source": [
        "- endswith() -> Verifica se o texto termina com um valor específico e dá como resposta True ou False"
      ]
    },
    {
      "cell_type": "raw",
      "metadata": {
        "id": "12DlOwIhukoC"
      },
      "source": [
        "    Uso:\n",
        "        texto = 'lira@gmail.com'\n",
        "        print(texto.endswith('gmail.com'))\n",
        "    Resultado:\n",
        "        True"
      ]
    },
    {
      "cell_type": "markdown",
      "metadata": {
        "id": "FxO9bCGvukoC"
      },
      "source": [
        "- find() -> Procura um texto dentro de outro texto e dá como resposta a posição do texto encontrado"
      ]
    },
    {
      "cell_type": "raw",
      "metadata": {
        "id": "yWOcPl71ukoD"
      },
      "source": [
        "    Uso:\n",
        "        texto = 'lira@gmail.com'\n",
        "        print(texto.find('@'))\n",
        "    Resultado:\n",
        "        4\n",
        "    Obs: lembrando como funciona a posição nas strings, então o @ está na posição 4\n",
        "    l i r a @ g m a i l  .  c  o  m\n",
        "    0 1 2 3 4 5 6 7 8 9 10 11 12 13"
      ]
    },
    {
      "cell_type": "markdown",
      "metadata": {
        "id": "35K9det2ukoD"
      },
      "source": [
        "- format() -> Formata uma string de acordo com os valores passados. Já usamos bastante ao longo do programa."
      ]
    },
    {
      "cell_type": "raw",
      "metadata": {
        "id": "-ACaALL-ukoE"
      },
      "source": [
        "    Uso:\n",
        "        faturamento = 1000\n",
        "        print('O faturamento da loja foi de {} reais'.format(faturamento))\n",
        "    Resultado:\n",
        "        'O faturamento da loja foi de 1000 reais'"
      ]
    },
    {
      "cell_type": "markdown",
      "metadata": {
        "id": "oNFfTOcqukoG"
      },
      "source": [
        "- isalnum() -> Verifica se um texto é todo feito com caracteres alfanuméricos (letras e números) -> letras com acento ou ç são considerados letras para essa função."
      ]
    },
    {
      "cell_type": "raw",
      "metadata": {
        "id": "LcwVqTjzukoI"
      },
      "source": [
        "    Uso:\n",
        "        texto = 'João123'\n",
        "        print(texto.isalnum())\n",
        "    Resultado:\n",
        "        True\n",
        "    Obs: se o texto fosse 'Jo~ao' ou então 'Joao#' o resultado seria False "
      ]
    },
    {
      "cell_type": "markdown",
      "metadata": {
        "id": "xVTJeNvnukoJ"
      },
      "source": [
        "- isalpha() -> Verifica se um texto é todo feito de letras."
      ]
    },
    {
      "cell_type": "raw",
      "metadata": {
        "id": "9eQ3UgXbukoJ"
      },
      "source": [
        "    Uso:\n",
        "        texto = 'João'\n",
        "        print(texto.isalpha())\n",
        "    Resultado:\n",
        "        True\n",
        "    Obs: nesse caso se o texto fosse 'Joao123' o resultado seria False, porque 123 não são letras."
      ]
    },
    {
      "cell_type": "markdown",
      "metadata": {
        "id": "Xyf5k3p2ukoJ"
      },
      "source": [
        "- isnumeric()\t-> Verifica se um texto é todo feito por números."
      ]
    },
    {
      "cell_type": "raw",
      "metadata": {
        "id": "QORevMoeukoK"
      },
      "source": [
        "    Uso:\n",
        "        texto = '123'\n",
        "        print(texto.isnumeric())\n",
        "    Resultado:\n",
        "        True\n",
        "    Obs: existem os métodos isdigit() e isdecimal() que tem variações pontuais em caracteres especiais tipo textos com frações e potências, mas para 99% dos casos eles não vão ser necessários."
      ]
    },
    {
      "cell_type": "markdown",
      "metadata": {
        "id": "FhCaEv-lukoK"
      },
      "source": [
        "- replace() -> Substitui um texto por um outro texto em uma string."
      ]
    },
    {
      "cell_type": "raw",
      "metadata": {
        "id": "pw2V89ipukoL"
      },
      "source": [
        "    Uso:\n",
        "        texto = '1000.00'\n",
        "        print(texto.replace('.', ','))\n",
        "    Resultado\n",
        "        '1000,00'\n",
        "    Obs: o replace precisa de 2 argumentos para funcionar. O 1º é o texto que você quer trocar. O 2º é o texto que você quer colocar no lugar daquele texto que você está tirando."
      ]
    },
    {
      "cell_type": "markdown",
      "metadata": {
        "id": "nxZ5Smw2ukoL"
      },
      "source": [
        "- split()\t-> Separa uma string de acordo com um delimitador em vários textos diferentes."
      ]
    },
    {
      "cell_type": "raw",
      "metadata": {
        "id": "KW4dYW5XukoL"
      },
      "source": [
        "    Uso:\n",
        "        texto = 'lira@gmail.com'\n",
        "        print(texto.split('@'))\n",
        "    Resultado:\n",
        "        ['lira', 'gmail.com']\n"
      ]
    },
    {
      "cell_type": "markdown",
      "metadata": {
        "id": "lG9-E4nMukoL"
      },
      "source": [
        "- splitlines() -> separa um texto em vários textos de acordo com os \"enters\" do texto"
      ]
    },
    {
      "cell_type": "raw",
      "metadata": {
        "id": "xyZz2YaIukoM"
      },
      "source": [
        "    Uso:\n",
        "        texto = '''Olá, bom dia\n",
        "        Venho por meio desse e-mail lhe informar o faturamento da loja no dia de hoje.\n",
        "        Faturamento = R$2.500,00\n",
        "        '''\n",
        "        print(texto.splitlines())\n",
        "    Resultado:\n",
        "        ['Olá, bom dia', 'Venho por meio desse e-mail lhe informar o faturamento da loja no dia de hoje.', 'Faturamento = R$2.500,00']"
      ]
    },
    {
      "cell_type": "markdown",
      "metadata": {
        "id": "EAu6jwvyukoM"
      },
      "source": [
        "- startswith() -> Verifica se a string começa com determinado texto"
      ]
    },
    {
      "cell_type": "raw",
      "metadata": {
        "id": "zxdNcsupukoM"
      },
      "source": [
        "    Uso:\n",
        "        texto = 'BEB123453'\n",
        "        print(texto.startswith('BEB'))\n",
        "    Resultado:\n",
        "        True"
      ]
    },
    {
      "cell_type": "markdown",
      "metadata": {
        "id": "8CGM4BIFukoN"
      },
      "source": [
        "- strip()\t-> Retira caracteres indesejados dos textos. Por padrão, retira espaços \"extras\" no início e no final"
      ]
    },
    {
      "cell_type": "raw",
      "metadata": {
        "id": "R8X15-ERukoN"
      },
      "source": [
        "    Uso:\n",
        "        texto = ' BEB123453 '\n",
        "        print(texto.strip())\n",
        "    Resultado:\n",
        "        'BEB123453'"
      ]
    },
    {
      "cell_type": "markdown",
      "metadata": {
        "id": "Cr5i4BvvukoN"
      },
      "source": [
        "- title() -> Coloca a 1ª letra de cada palavra em maiúscula"
      ]
    },
    {
      "cell_type": "raw",
      "metadata": {
        "id": "kql3rbBGukoO"
      },
      "source": [
        "    Uso:\n",
        "        texto = 'joão paulo lira'\n",
        "        print(texto.title())\n",
        "    Resultado:\n",
        "        'João Paulo Lira'"
      ]
    },
    {
      "cell_type": "markdown",
      "metadata": {
        "id": "cvs9gVV6ukoO"
      },
      "source": [
        "- upper()\t-> Coloca o texto todo em letra maiúscula"
      ]
    },
    {
      "cell_type": "raw",
      "metadata": {
        "id": "GDvq0wJ9ukoO"
      },
      "source": [
        "    Uso:\n",
        "        texto = 'beb12343'\n",
        "        print(texto.upper())\n",
        "    Resultado:\n",
        "        'BEB12343'"
      ]
    }
  ],
  "metadata": {
    "kernelspec": {
      "display_name": "Python 3",
      "language": "python",
      "name": "python3"
    },
    "language_info": {
      "codemirror_mode": {
        "name": "ipython",
        "version": 3
      },
      "file_extension": ".py",
      "mimetype": "text/x-python",
      "name": "python",
      "nbconvert_exporter": "python",
      "pygments_lexer": "ipython3",
      "version": "3.8.3"
    },
    "colab": {
      "name": "Cartilha Métodos de String.ipynb",
      "provenance": [],
      "include_colab_link": true
    }
  },
  "nbformat": 4,
  "nbformat_minor": 0
}