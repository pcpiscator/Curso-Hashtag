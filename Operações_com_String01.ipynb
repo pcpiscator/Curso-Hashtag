{
  "cells": [
    {
      "cell_type": "markdown",
      "metadata": {
        "id": "view-in-github",
        "colab_type": "text"
      },
      "source": [
        "<a href=\"https://colab.research.google.com/github/pcpiscator/Curso-Hashtag/blob/main/Opera%C3%A7%C3%B5es_com_String01.ipynb\" target=\"_parent\"><img src=\"https://colab.research.google.com/assets/colab-badge.svg\" alt=\"Open In Colab\"/></a>"
      ]
    },
    {
      "cell_type": "markdown",
      "metadata": {
        "id": "RaFngjuN1b7V"
      },
      "source": [
        "# Operações com String\n",
        "\n",
        "str -> transforma número em string<br>\n",
        "in -> verifica se um texto está contido dentro do outro<br>\n",
        "operador + -> concatenar string<br>\n",
        "format e {} -> substitui valores<br>\n",
        "%s -> substitui textos<br>\n",
        "%d -> substitui números decimais<br>\n",
        "\n",
        "Vamos deixar uma cartilha para download"
      ]
    },
    {
      "cell_type": "code",
      "execution_count": null,
      "metadata": {
        "id": "bH0X7scJ1b7j"
      },
      "outputs": [],
      "source": [
        "faturamento = 2000\n",
        "custo = 500\n",
        "lucro = faturamento - custo"
      ]
    },
    {
      "cell_type": "markdown",
      "metadata": {
        "id": "NbmPYqKy1b7l"
      },
      "source": [
        "Uso do str() e do concatenar com +"
      ]
    },
    {
      "cell_type": "code",
      "execution_count": null,
      "metadata": {
        "id": "heYM90n71b7m",
        "outputId": "d78a75dd-f308-47a6-8811-bf4772b1a762"
      },
      "outputs": [
        {
          "name": "stdout",
          "output_type": "stream",
          "text": [
            "O faturamento da loja foi de: 1000 O custo foi de 500 O lucro foi de 500\n"
          ]
        }
      ],
      "source": [
        "print ('O faturamento da loja foi de: ' + str(faturamento) + ' O custo foi de ' + str(custo) + ' O lucro foi de ' + str(lucro))"
      ]
    },
    {
      "cell_type": "markdown",
      "metadata": {
        "id": "fFYVQ8UA1b7n"
      },
      "source": [
        "Uso do Format"
      ]
    },
    {
      "cell_type": "code",
      "execution_count": null,
      "metadata": {
        "id": "ot0rCVzZ1b7o",
        "outputId": "7078a7ea-3f93-471a-cad1-101843b5c78a",
        "colab": {
          "base_uri": "https://localhost:8080/"
        }
      },
      "outputs": [
        {
          "output_type": "stream",
          "name": "stdout",
          "text": [
            "O faturamento foi de: 2000. O custo foi de 500 e o Lucro foi de 1500. Lembrando, o faturamento foi de 2000\n"
          ]
        }
      ],
      "source": [
        "print('O faturamento foi de: {0}. O custo foi de {1} e o Lucro foi de {2}. Lembrando, o faturamento foi de {0}'.format(faturamento, custo, lucro))"
      ]
    },
    {
      "cell_type": "markdown",
      "metadata": {
        "id": "Eaf-BlCQ1b7o"
      },
      "source": [
        "Uso do %s e %d"
      ]
    },
    {
      "cell_type": "code",
      "execution_count": null,
      "metadata": {
        "id": "0Omsyrib1b7p",
        "outputId": "393ee167-40c9-4b8e-a3a4-c7d42b50701d",
        "colab": {
          "base_uri": "https://localhost:8080/"
        }
      },
      "outputs": [
        {
          "output_type": "stream",
          "name": "stdout",
          "text": [
            "O faturamento foi de: 2000. O custo foi de 500 e o Lucro foi de 1500\n"
          ]
        }
      ],
      "source": [
        "print ('O faturamento foi de: %d. O custo foi de %d e o Lucro foi de %d' % (faturamento, custo, lucro))"
      ]
    },
    {
      "cell_type": "markdown",
      "metadata": {
        "id": "dUHpwNdh1b7q"
      },
      "source": [
        "Uso do in (mais exercícios práticos nas próximas aulas)"
      ]
    },
    {
      "cell_type": "code",
      "execution_count": null,
      "metadata": {
        "id": "I3WWf0Yj1b7r",
        "outputId": "a0e27bad-ca5a-4ab2-8ddf-c7380840c2f4",
        "colab": {
          "base_uri": "https://localhost:8080/"
        }
      },
      "outputs": [
        {
          "output_type": "stream",
          "name": "stdout",
          "text": [
            "True\n",
            "False\n"
          ]
        }
      ],
      "source": [
        "print('@' in 'lira@gmail.com')\n",
        "print('@' in 'lira.gmail.com')"
      ]
    }
  ],
  "metadata": {
    "kernelspec": {
      "display_name": "Python 3",
      "language": "python",
      "name": "python3"
    },
    "language_info": {
      "codemirror_mode": {
        "name": "ipython",
        "version": 3
      },
      "file_extension": ".py",
      "mimetype": "text/x-python",
      "name": "python",
      "nbconvert_exporter": "python",
      "pygments_lexer": "ipython3",
      "version": "3.8.3"
    },
    "colab": {
      "name": "Operações com String01.ipynb",
      "provenance": [],
      "include_colab_link": true
    }
  },
  "nbformat": 4,
  "nbformat_minor": 0
}