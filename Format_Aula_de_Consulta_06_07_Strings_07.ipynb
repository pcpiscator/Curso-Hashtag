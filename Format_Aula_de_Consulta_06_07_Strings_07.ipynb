{
  "cells": [
    {
      "cell_type": "markdown",
      "metadata": {
        "id": "view-in-github",
        "colab_type": "text"
      },
      "source": [
        "<a href=\"https://colab.research.google.com/github/pcpiscator/Curso-Hashtag/blob/main/Format_Aula_de_Consulta_06_07_Strings_07.ipynb\" target=\"_parent\"><img src=\"https://colab.research.google.com/assets/colab-badge.svg\" alt=\"Open In Colab\"/></a>"
      ]
    },
    {
      "cell_type": "markdown",
      "metadata": {
        "id": "hw9SxbUDYxE-"
      },
      "source": [
        "# Format - Aula de Consulta\n",
        "\n",
        "### Como usar o format para criar formatações personalizadas em prints e textos."
      ]
    },
    {
      "cell_type": "raw",
      "metadata": {
        "id": "g-_JR_mQYxFF"
      },
      "source": [
        ":<\t\tAlinha o texto à esquerda (se tiver espaço na tela para isso)\n",
        ":>\t\tAlinha o texto à direita (se tiver espaço na tela para isso)\n",
        ":^\t\tAlinha o texto ao centro (se tiver espaço na tela para isso)\n",
        ":+\t\tColoca o sinal sempre na frente do número (independente se é positivo ou negativo)\n",
        ":,\t\tColoca a vírgula como separador de milhar\n",
        ":_\t\tColoca o _ como separador de milhar\n",
        ":e\t\tFormato Científico\n",
        ":f\t\tNúmero com quantidade fixa de casas decimais\n",
        ":x\t\tFormato HEX minúscula (para cores)\n",
        ":X\t\tFormato HEX maiúscula (para cores)\n",
        ":%\t\tFormato Percentual"
      ]
    },
    {
      "cell_type": "markdown",
      "metadata": {
        "id": "qrjQXO94YxFH"
      },
      "source": [
        "- Exemplo de Alinhamento"
      ]
    },
    {
      "cell_type": "code",
      "execution_count": null,
      "metadata": {
        "id": "68E0j_GoYxFH",
        "outputId": "107bb4a9-e2eb-4713-83f2-f06f7ad07adc"
      },
      "outputs": [
        {
          "name": "stdout",
          "output_type": "stream",
          "text": [
            "Meu e-mail não é                   lira@gmail.com                  , show?\n"
          ]
        }
      ],
      "source": [
        "email = 'lira@gmail.com'\n",
        "print('Meu e-mail não é {:^50}, show?'.format(email))"
      ]
    },
    {
      "cell_type": "markdown",
      "metadata": {
        "id": "99p4m-oLYxFK"
      },
      "source": [
        "- Exemplo de Edição de Sinal"
      ]
    },
    {
      "cell_type": "code",
      "execution_count": null,
      "metadata": {
        "id": "Flczv9noYxFK",
        "outputId": "68e7b6a5-7d1c-402e-8ab6-a35eb4cee8ef"
      },
      "outputs": [
        {
          "name": "stdout",
          "output_type": "stream",
          "text": [
            "Faturamento foi +270 e lucro foi -230\n"
          ]
        }
      ],
      "source": [
        "custo = 500\n",
        "faturamento = 270\n",
        "lucro = faturamento - custo\n",
        "print('Faturamento foi {:+} e lucro foi {:+}'.format(faturamento, lucro))"
      ]
    },
    {
      "cell_type": "markdown",
      "metadata": {
        "id": "vFL-o2WWYxFL"
      },
      "source": [
        "- Exemplo de Separador de Milhar"
      ]
    },
    {
      "cell_type": "code",
      "execution_count": null,
      "metadata": {
        "id": "hJ_99AxeYxFN",
        "outputId": "4f68d3b8-e057-40b0-da2e-a7f880322349"
      },
      "outputs": [
        {
          "name": "stdout",
          "output_type": "stream",
          "text": [
            "Faturamento foi +2,700 e lucro foi -2,300\n"
          ]
        }
      ],
      "source": [
        "custo = 5000\n",
        "faturamento = 2700\n",
        "lucro = faturamento - custo\n",
        "print('Faturamento foi {:+,} e lucro foi {:+,}'.format(faturamento, lucro))"
      ]
    },
    {
      "cell_type": "markdown",
      "metadata": {
        "id": "oZ7oY_b4YxFO"
      },
      "source": [
        "- Formato com casas Decimais fixas"
      ]
    },
    {
      "cell_type": "code",
      "execution_count": null,
      "metadata": {
        "id": "iwpJO9WSYxFP",
        "outputId": "21ccf511-15c1-447d-c838-f6589525ddfc"
      },
      "outputs": [
        {
          "name": "stdout",
          "output_type": "stream",
          "text": [
            "Faturamento foi 270.00 e lucro foi -230.0\n"
          ]
        }
      ],
      "source": [
        "custo = 500\n",
        "faturamento = 270\n",
        "lucro = faturamento - custo\n",
        "print('Faturamento foi {:.2f} e lucro foi {:.1f}'.format(faturamento, lucro))"
      ]
    },
    {
      "cell_type": "markdown",
      "metadata": {
        "id": "VuM4wv3RYxFP"
      },
      "source": [
        "- Formato Percentual"
      ]
    },
    {
      "cell_type": "code",
      "execution_count": null,
      "metadata": {
        "id": "-JK8knzlYxFQ",
        "outputId": "3a0d522b-1150-41fb-a071-b262103f7629"
      },
      "outputs": [
        {
          "name": "stdout",
          "output_type": "stream",
          "text": [
            "Margem de lucro foi de 61.54%\n"
          ]
        }
      ],
      "source": [
        "custo = 500\n",
        "faturamento = 1300\n",
        "lucro = faturamento - custo\n",
        "margem = lucro / faturamento\n",
        "print('Margem de lucro foi de {:.2%}'.format(margem))"
      ]
    },
    {
      "cell_type": "markdown",
      "metadata": {
        "id": "ZKpAqodaYxFR"
      },
      "source": [
        "- Formato Moeda -> Combinação de Formatos\n",
        "\n",
        "Existem módulos/bibliotecas que vão facilitar isso, caso a gente queira, mas vamos ver como usar módulos mais a frente do curso. Por enquanto, se você precisar, pode fazer substituições em string"
      ]
    },
    {
      "cell_type": "code",
      "execution_count": null,
      "metadata": {
        "id": "VOKoN5afYxFR",
        "outputId": "4cdb6f2c-b3e5-41d6-ff17-44c407aee33e"
      },
      "outputs": [
        {
          "name": "stdout",
          "output_type": "stream",
          "text": [
            "Faturamento foi R$27,000.00 e lucro foi R$22,000.00\n",
            "R$22.000,00\n"
          ]
        }
      ],
      "source": [
        "custo = 5000\n",
        "faturamento = 27000\n",
        "lucro = faturamento - custo\n",
        "print('Faturamento foi R${:,.2f} e lucro foi R${:,.2f}'.format(faturamento, lucro))\n",
        "\n",
        "#transformando no formato brasileiro\n",
        "lucro_texto = 'R${:_.2f}'.format(lucro)\n",
        "print(lucro_texto.replace('.', ',').replace('_', '.'))"
      ]
    },
    {
      "cell_type": "markdown",
      "metadata": {
        "id": "FVIIJLHQYxFS"
      },
      "source": [
        "- Função round() para arredondar números, caso seja necessário"
      ]
    },
    {
      "cell_type": "code",
      "execution_count": null,
      "metadata": {
        "id": "i1Y2RfINYxFS",
        "outputId": "39e19d30-eb8a-431c-ff9c-c20eb99f3caa"
      },
      "outputs": [
        {
          "name": "stdout",
          "output_type": "stream",
          "text": [
            "Imposto sobre o preço é de 15.8\n"
          ]
        }
      ],
      "source": [
        "imposto = 0.15758\n",
        "preco = 100\n",
        "valor_imposto = round(preco * imposto, 1)\n",
        "print('Imposto sobre o preço é de {}'.format(valor_imposto))"
      ]
    }
  ],
  "metadata": {
    "kernelspec": {
      "display_name": "Python 3",
      "language": "python",
      "name": "python3"
    },
    "language_info": {
      "codemirror_mode": {
        "name": "ipython",
        "version": 3
      },
      "file_extension": ".py",
      "mimetype": "text/x-python",
      "name": "python",
      "nbconvert_exporter": "python",
      "pygments_lexer": "ipython3",
      "version": "3.8.3"
    },
    "colab": {
      "name": "Format - Aula de Consulta 06.07 Strings 07.ipynb",
      "provenance": [],
      "include_colab_link": true
    }
  },
  "nbformat": 4,
  "nbformat_minor": 0
}